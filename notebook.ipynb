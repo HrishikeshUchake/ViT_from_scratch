{
 "cells": [
  {
   "cell_type": "markdown",
   "metadata": {
    "id": "Sh62V1WMes0j"
   },
   "source": [
    "## 1. Importing libraries\n"
   ]
  },
  {
   "cell_type": "code",
   "execution_count": null,
   "metadata": {
    "id": "ZCmzi4WJaxUP"
   },
   "outputs": [],
   "source": [
    "import torch\n",
    "import torch.nn as nn\n",
    "import torch.nn.functional as F\n",
    "import torch.optim as optim\n",
    "from torch.utils.data import DataLoader\n",
    "import torchvision\n",
    "from torchvision import datasets, transforms\n",
    "import numpy as np\n",
    "import random\n",
    "import matplotlib.pyplot as plt"
   ]
  },
  {
   "cell_type": "code",
   "execution_count": null,
   "metadata": {
    "colab": {
     "base_uri": "https://localhost:8080/",
     "height": 35
    },
    "id": "znIoXzG0dLMr",
    "outputId": "2b123c9c-8576-47e5-c682-e2d02fe8db3d"
   },
   "outputs": [
    {
     "data": {
      "application/vnd.google.colaboratory.intrinsic+json": {
       "type": "string"
      },
      "text/plain": [
       "'2.6.0+cu124'"
      ]
     },
     "execution_count": 2,
     "metadata": {},
     "output_type": "execute_result"
    }
   ],
   "source": [
    "torch.__version__"
   ]
  },
  {
   "cell_type": "code",
   "execution_count": null,
   "metadata": {
    "colab": {
     "base_uri": "https://localhost:8080/",
     "height": 35
    },
    "id": "fbw9c17te14G",
    "outputId": "0ccfb2c6-ad45-4418-dd10-25def3021f70"
   },
   "outputs": [
    {
     "data": {
      "application/vnd.google.colaboratory.intrinsic+json": {
       "type": "string"
      },
      "text/plain": [
       "'0.21.0+cu124'"
      ]
     },
     "execution_count": 3,
     "metadata": {},
     "output_type": "execute_result"
    }
   ],
   "source": [
    "torchvision.__version__"
   ]
  },
  {
   "cell_type": "markdown",
   "metadata": {
    "id": "AP2eZ9GBe8AM"
   },
   "source": [
    "## 2. Setup Device-Agnostic Code"
   ]
  },
  {
   "cell_type": "code",
   "execution_count": null,
   "metadata": {
    "colab": {
     "base_uri": "https://localhost:8080/"
    },
    "id": "l8EUBkadfVjz",
    "outputId": "7c19215f-6d6b-4081-98d3-13cfa320b4a5"
   },
   "outputs": [
    {
     "data": {
      "text/plain": [
       "True"
      ]
     },
     "execution_count": 4,
     "metadata": {},
     "output_type": "execute_result"
    }
   ],
   "source": [
    "torch.cuda.is_available()"
   ]
  },
  {
   "cell_type": "code",
   "execution_count": null,
   "metadata": {
    "colab": {
     "base_uri": "https://localhost:8080/"
    },
    "id": "xLTPyDUGe_as",
    "outputId": "60f0ea03-fd11-4e9b-e870-9ae88f9a51b8"
   },
   "outputs": [
    {
     "name": "stdout",
     "output_type": "stream",
     "text": [
      "cuda\n",
      "Using device: cuda\n"
     ]
    }
   ],
   "source": [
    "device = torch.device(\"cuda\" if torch.cuda.is_available() else \"cpu\")\n",
    "print(device)\n",
    "print(f\"Using device: {device}\")"
   ]
  },
  {
   "cell_type": "markdown",
   "metadata": {
    "id": "CDfS2R0QfxA7"
   },
   "source": [
    "## 3. Set the seed"
   ]
  },
  {
   "cell_type": "code",
   "execution_count": null,
   "metadata": {
    "id": "T_wjKeOvf0-Q"
   },
   "outputs": [],
   "source": [
    "torch.manual_seed(42)\n",
    "torch.cuda.manual_seed(42)\n",
    "random.seed(42)"
   ]
  },
  {
   "cell_type": "markdown",
   "metadata": {
    "id": "_0UHYSgSf_TX"
   },
   "source": [
    "## 4. Setting the hyperparameters"
   ]
  },
  {
   "cell_type": "code",
   "execution_count": null,
   "metadata": {
    "id": "RLdF9SCXgB6i"
   },
   "outputs": [],
   "source": [
    "BATCH_SIZE = 128\n",
    "EPOCHS = 10\n",
    "LEARNING_RATE = 3e-4\n",
    "IMAGE_SIZE = 32\n",
    "PATCH_SIZE = 4            # 8x8 patches → 64 tokens\n",
    "CHANNELS = 3\n",
    "NUM_CLASSES = 10\n",
    "EMBED_DIM = 192\n",
    "DEPTH = 6\n",
    "NUM_HEADS = 6             # 192/6 = 32\n",
    "MLP_DIM = 384             # 2x EMBED_DIM\n",
    "DROP_RATE = 0.1\n"
   ]
  },
  {
   "cell_type": "markdown",
   "metadata": {
    "id": "vPeRWEdmgspr"
   },
   "source": [
    "##5. Define Image Transformations"
   ]
  },
  {
   "cell_type": "code",
   "execution_count": null,
   "metadata": {
    "id": "AgLT8tJBgwDQ"
   },
   "outputs": [],
   "source": [
    "transform = transforms.Compose([\n",
    "    transforms.ToTensor(),\n",
    "    transforms.Normalize((0.5), (0.5))\n",
    "    #helps the module to coverge faster\n",
    "    #helps to make the numerical computations stable\n",
    "])"
   ]
  },
  {
   "cell_type": "markdown",
   "metadata": {
    "id": "yV_os25Kh_kI"
   },
   "source": [
    "## 6. Importing dataset from CIFAR10"
   ]
  },
  {
   "cell_type": "code",
   "execution_count": null,
   "metadata": {
    "colab": {
     "base_uri": "https://localhost:8080/"
    },
    "id": "VV72L24ZiC1x",
    "outputId": "0e9e0df1-a378-46d5-9652-41dbf6f71aa6"
   },
   "outputs": [
    {
     "name": "stderr",
     "output_type": "stream",
     "text": [
      "100%|██████████| 170M/170M [00:03<00:00, 43.5MB/s]\n"
     ]
    }
   ],
   "source": [
    "train_dataset = torchvision.datasets.CIFAR10(root='data', train=True, download=True, transform=transform)"
   ]
  },
  {
   "cell_type": "code",
   "execution_count": null,
   "metadata": {
    "id": "ZX0GH0YJimjB"
   },
   "outputs": [],
   "source": [
    "test_dataset = torchvision.datasets.CIFAR10(root='data', train=False, download=True, transform=transform)"
   ]
  },
  {
   "cell_type": "code",
   "execution_count": null,
   "metadata": {
    "colab": {
     "base_uri": "https://localhost:8080/"
    },
    "id": "nb5KpXvcjNT-",
    "outputId": "3e871933-290a-4a62-e03d-d406119d3fd4"
   },
   "outputs": [
    {
     "data": {
      "text/plain": [
       "Dataset CIFAR10\n",
       "    Number of datapoints: 50000\n",
       "    Root location: data\n",
       "    Split: Train\n",
       "    StandardTransform\n",
       "Transform: Compose(\n",
       "               ToTensor()\n",
       "               Normalize(mean=0.5, std=0.5)\n",
       "           )"
      ]
     },
     "execution_count": 11,
     "metadata": {},
     "output_type": "execute_result"
    }
   ],
   "source": [
    "train_dataset"
   ]
  },
  {
   "cell_type": "code",
   "execution_count": null,
   "metadata": {
    "colab": {
     "base_uri": "https://localhost:8080/"
    },
    "id": "ksxcjaW8jQU_",
    "outputId": "a597d639-5bab-421c-a3cf-6df418190734"
   },
   "outputs": [
    {
     "data": {
      "text/plain": [
       "Dataset CIFAR10\n",
       "    Number of datapoints: 10000\n",
       "    Root location: data\n",
       "    Split: Test\n",
       "    StandardTransform\n",
       "Transform: Compose(\n",
       "               ToTensor()\n",
       "               Normalize(mean=0.5, std=0.5)\n",
       "           )"
      ]
     },
     "execution_count": 12,
     "metadata": {},
     "output_type": "execute_result"
    }
   ],
   "source": [
    "test_dataset"
   ]
  },
  {
   "cell_type": "code",
   "execution_count": null,
   "metadata": {
    "colab": {
     "base_uri": "https://localhost:8080/"
    },
    "id": "NUkse3LGjUGn",
    "outputId": "679e2b20-9cbe-4dfe-8286-1a251d230f1f"
   },
   "outputs": [
    {
     "data": {
      "text/plain": [
       "50000"
      ]
     },
     "execution_count": 13,
     "metadata": {},
     "output_type": "execute_result"
    }
   ],
   "source": [
    "len(train_dataset)"
   ]
  },
  {
   "cell_type": "code",
   "execution_count": null,
   "metadata": {
    "colab": {
     "base_uri": "https://localhost:8080/"
    },
    "id": "dlqz9xrNjXGN",
    "outputId": "c8ac00d8-2d61-4136-ef24-1d1355fbed6b"
   },
   "outputs": [
    {
     "data": {
      "text/plain": [
       "10000"
      ]
     },
     "execution_count": 14,
     "metadata": {},
     "output_type": "execute_result"
    }
   ],
   "source": [
    "len(test_dataset)"
   ]
  },
  {
   "cell_type": "markdown",
   "metadata": {
    "id": "Rhmm4iSPjqkD"
   },
   "source": [
    "##7. Converting our datasets into dataloaders\n",
    "\n",
    "Currently, our data is in the form of PyTorch datasets.\n",
    "DataLoader turns our data into batches or (mini-batches).\n",
    "Because it is more computationally effficient and it gives our nn mroe chances to update its gradients per epoch."
   ]
  },
  {
   "cell_type": "code",
   "execution_count": null,
   "metadata": {
    "id": "IRAtXVZtji7G"
   },
   "outputs": [],
   "source": [
    "train_loader = DataLoader(train_dataset, batch_size=BATCH_SIZE, shuffle=True)\n",
    "\n",
    "test_loader = DataLoader(test_dataset, batch_size=BATCH_SIZE, shuffle=False)"
   ]
  },
  {
   "cell_type": "markdown",
   "metadata": {
    "id": "Bi5u6FwWk7Xe"
   },
   "source": [
    "Let's check what we have created"
   ]
  },
  {
   "cell_type": "code",
   "execution_count": null,
   "metadata": {
    "colab": {
     "base_uri": "https://localhost:8080/"
    },
    "id": "kNFC1NoNkqDl",
    "outputId": "049b9108-efe0-42e3-bf71-fc0632ec4cce"
   },
   "outputs": [
    {
     "name": "stdout",
     "output_type": "stream",
     "text": [
      "Length of train_loader: 391 batches of 128\n",
      "Length of test_loader: 79 batches of 128\n"
     ]
    }
   ],
   "source": [
    "print(f\"Length of train_loader: {len(train_loader)} batches of {BATCH_SIZE}\")\n",
    "print(f\"Length of test_loader: {len(test_loader)} batches of {BATCH_SIZE}\")"
   ]
  },
  {
   "cell_type": "markdown",
   "metadata": {
    "id": "Ru01164jlKB9"
   },
   "source": [
    "## 8. Building Vision Transformer Model from scratch"
   ]
  },
  {
   "cell_type": "code",
   "execution_count": null,
   "metadata": {
    "id": "-OlZ91jOlPzZ"
   },
   "outputs": [],
   "source": [
    "class PatchEmbedding(nn.Module):\n",
    "  def __init__(self, img_size, patch_size, in_channels, embed_dim):\n",
    "    super().__init__()\n",
    "    self.patch_size = patch_size\n",
    "    self.proj = nn.Conv2d(in_channels=in_channels, out_channels=embed_dim, kernel_size=patch_size, stride=patch_size)\n",
    "    num_patches = (img_size // patch_size) ** 2\n",
    "    self.cls_token = nn.Parameter(torch.randn(1, 1, embed_dim))\n",
    "    self.pos_embed = nn.Parameter(torch.randn(1, num_patches + 1, embed_dim))\n",
    "\n",
    "  def forward(self, x: torch.Tensor):\n",
    "    B = x.size(0)  # batch size\n",
    "    x = self.proj(x)  # shape: [B, embed_dim, H', W']\n",
    "    x = x.flatten(2).transpose(1, 2)\n",
    "\n",
    "    # Expand cls_token to match batch size\n",
    "    cls_token = self.cls_token.expand(B, -1, -1)\n",
    "\n",
    "    # Concatenate class token at the beginning\n",
    "    x = torch.cat((cls_token, x), dim=1)  # shape: [B, num_patches + 1, embed_dim]\n",
    "\n",
    "    # Add positional embeddings\n",
    "    x = x + self.pos_embed\n",
    "\n",
    "    return x\n"
   ]
  },
  {
   "cell_type": "code",
   "execution_count": null,
   "metadata": {
    "id": "AxPNHu1hnHNx"
   },
   "outputs": [],
   "source": [
    "class MLP(nn.Module):\n",
    "  def __init__(self,\n",
    "               in_features,\n",
    "               hidden_features,\n",
    "               drop_rate):\n",
    "    super().__init__()\n",
    "    self.fc1 = nn.Linear(in_features = in_features,\n",
    "                         out_features = hidden_features)\n",
    "    self.fc2 = nn.Linear(in_features=hidden_features,\n",
    "                         out_features=in_features)\n",
    "    self.dropout = nn.Dropout(drop_rate)\n",
    "\n",
    "  def forward(self, x):\n",
    "    x = self.dropout(F.gelu(self.fc1(x))) # Added x to fc1 and parentheses\n",
    "    x = self.dropout(self.fc2(x)) # Added x to fc2 and parentheses\n",
    "    return x"
   ]
  },
  {
   "cell_type": "code",
   "execution_count": null,
   "metadata": {
    "id": "MEUljcg5o0K5"
   },
   "outputs": [],
   "source": [
    "class TransformerEncoderLayer(nn.Module):\n",
    "  def __init__(self, embed_dim, num_heads, mlp_dim, drop_rate):\n",
    "    super().__init__()\n",
    "    self.norm1 = nn.LayerNorm(embed_dim)\n",
    "    self.attn = nn.MultiheadAttention(embed_dim, num_heads, dropout=drop_rate, batch_first=True)\n",
    "    self.norm2 = nn.LayerNorm(embed_dim)\n",
    "    self.mlp = MLP(embed_dim, mlp_dim, drop_rate)\n",
    "\n",
    "  def forward(self, x):\n",
    "    x = x + self.attn(self.norm1(x), self.norm1(x), self.norm1(x))[0] # Corrected second argument of self.attn\n",
    "    x = x + self.mlp(self.norm2(x))\n",
    "    return x"
   ]
  },
  {
   "cell_type": "code",
   "execution_count": null,
   "metadata": {
    "id": "6hZmNabOqA_D"
   },
   "outputs": [],
   "source": [
    "class VisionTransformer(nn.Module):\n",
    "  def __init__(self, img_size, patch_size, in_channels, num_classes, embed_dim, depth, num_heads, mlp_dim, drop_rate):\n",
    "    super().__init__()\n",
    "    self.patch_embed = PatchEmbedding(img_size, patch_size, in_channels, embed_dim)\n",
    "    self.encoder = nn.Sequential(\n",
    "    *[TransformerEncoderLayer(embed_dim, num_heads, mlp_dim, drop_rate) for _ in range(depth)]\n",
    ")\n",
    "    self.norm = nn.LayerNorm(embed_dim)\n",
    "    self.head = nn.Linear(embed_dim, num_classes)\n",
    "\n",
    "  def forward(self, x):\n",
    "    x = self.patch_embed(x)\n",
    "    x = self.encoder(x)\n",
    "    x = self.norm(x)\n",
    "    cls_token = x[:, 0]\n",
    "    x = self.head(cls_token)\n",
    "    return x"
   ]
  },
  {
   "cell_type": "code",
   "execution_count": null,
   "metadata": {
    "colab": {
     "base_uri": "https://localhost:8080/"
    },
    "id": "xv-XTqPSBE3s",
    "outputId": "521ed971-ae0b-4711-b995-49631e4790e8"
   },
   "outputs": [
    {
     "data": {
      "text/plain": [
       "6"
      ]
     },
     "execution_count": 21,
     "metadata": {},
     "output_type": "execute_result"
    }
   ],
   "source": [
    "DEPTH"
   ]
  },
  {
   "cell_type": "code",
   "execution_count": null,
   "metadata": {
    "colab": {
     "base_uri": "https://localhost:8080/"
    },
    "id": "7F0PZZ1WBJ2r",
    "outputId": "427b7d1d-bef9-4753-b2f2-19ac9ebea3c5"
   },
   "outputs": [
    {
     "data": {
      "text/plain": [
       "device(type='cuda')"
      ]
     },
     "execution_count": 22,
     "metadata": {},
     "output_type": "execute_result"
    }
   ],
   "source": [
    "device"
   ]
  },
  {
   "cell_type": "code",
   "execution_count": null,
   "metadata": {
    "id": "8XLOEUjmBOv8"
   },
   "outputs": [],
   "source": [
    "model = VisionTransformer(IMAGE_SIZE, PATCH_SIZE, CHANNELS, NUM_CLASSES, EMBED_DIM, DEPTH, NUM_HEADS, MLP_DIM, DROP_RATE).to(device)"
   ]
  },
  {
   "cell_type": "markdown",
   "metadata": {
    "id": "Sv_-a8JrGBVE"
   },
   "source": [
    "#Model Architecture"
   ]
  },
  {
   "cell_type": "code",
   "execution_count": null,
   "metadata": {
    "colab": {
     "base_uri": "https://localhost:8080/"
    },
    "id": "L7DgdDrxF9dQ",
    "outputId": "0672a5cf-dc30-4859-c9a7-f038b289bea7"
   },
   "outputs": [
    {
     "data": {
      "text/plain": [
       "VisionTransformer(\n",
       "  (patch_embed): PatchEmbedding(\n",
       "    (proj): Conv2d(3, 192, kernel_size=(4, 4), stride=(4, 4))\n",
       "  )\n",
       "  (encoder): Sequential(\n",
       "    (0): TransformerEncoderLayer(\n",
       "      (norm1): LayerNorm((192,), eps=1e-05, elementwise_affine=True)\n",
       "      (attn): MultiheadAttention(\n",
       "        (out_proj): NonDynamicallyQuantizableLinear(in_features=192, out_features=192, bias=True)\n",
       "      )\n",
       "      (norm2): LayerNorm((192,), eps=1e-05, elementwise_affine=True)\n",
       "      (mlp): MLP(\n",
       "        (fc1): Linear(in_features=192, out_features=384, bias=True)\n",
       "        (fc2): Linear(in_features=384, out_features=192, bias=True)\n",
       "        (dropout): Dropout(p=0.1, inplace=False)\n",
       "      )\n",
       "    )\n",
       "    (1): TransformerEncoderLayer(\n",
       "      (norm1): LayerNorm((192,), eps=1e-05, elementwise_affine=True)\n",
       "      (attn): MultiheadAttention(\n",
       "        (out_proj): NonDynamicallyQuantizableLinear(in_features=192, out_features=192, bias=True)\n",
       "      )\n",
       "      (norm2): LayerNorm((192,), eps=1e-05, elementwise_affine=True)\n",
       "      (mlp): MLP(\n",
       "        (fc1): Linear(in_features=192, out_features=384, bias=True)\n",
       "        (fc2): Linear(in_features=384, out_features=192, bias=True)\n",
       "        (dropout): Dropout(p=0.1, inplace=False)\n",
       "      )\n",
       "    )\n",
       "    (2): TransformerEncoderLayer(\n",
       "      (norm1): LayerNorm((192,), eps=1e-05, elementwise_affine=True)\n",
       "      (attn): MultiheadAttention(\n",
       "        (out_proj): NonDynamicallyQuantizableLinear(in_features=192, out_features=192, bias=True)\n",
       "      )\n",
       "      (norm2): LayerNorm((192,), eps=1e-05, elementwise_affine=True)\n",
       "      (mlp): MLP(\n",
       "        (fc1): Linear(in_features=192, out_features=384, bias=True)\n",
       "        (fc2): Linear(in_features=384, out_features=192, bias=True)\n",
       "        (dropout): Dropout(p=0.1, inplace=False)\n",
       "      )\n",
       "    )\n",
       "    (3): TransformerEncoderLayer(\n",
       "      (norm1): LayerNorm((192,), eps=1e-05, elementwise_affine=True)\n",
       "      (attn): MultiheadAttention(\n",
       "        (out_proj): NonDynamicallyQuantizableLinear(in_features=192, out_features=192, bias=True)\n",
       "      )\n",
       "      (norm2): LayerNorm((192,), eps=1e-05, elementwise_affine=True)\n",
       "      (mlp): MLP(\n",
       "        (fc1): Linear(in_features=192, out_features=384, bias=True)\n",
       "        (fc2): Linear(in_features=384, out_features=192, bias=True)\n",
       "        (dropout): Dropout(p=0.1, inplace=False)\n",
       "      )\n",
       "    )\n",
       "    (4): TransformerEncoderLayer(\n",
       "      (norm1): LayerNorm((192,), eps=1e-05, elementwise_affine=True)\n",
       "      (attn): MultiheadAttention(\n",
       "        (out_proj): NonDynamicallyQuantizableLinear(in_features=192, out_features=192, bias=True)\n",
       "      )\n",
       "      (norm2): LayerNorm((192,), eps=1e-05, elementwise_affine=True)\n",
       "      (mlp): MLP(\n",
       "        (fc1): Linear(in_features=192, out_features=384, bias=True)\n",
       "        (fc2): Linear(in_features=384, out_features=192, bias=True)\n",
       "        (dropout): Dropout(p=0.1, inplace=False)\n",
       "      )\n",
       "    )\n",
       "    (5): TransformerEncoderLayer(\n",
       "      (norm1): LayerNorm((192,), eps=1e-05, elementwise_affine=True)\n",
       "      (attn): MultiheadAttention(\n",
       "        (out_proj): NonDynamicallyQuantizableLinear(in_features=192, out_features=192, bias=True)\n",
       "      )\n",
       "      (norm2): LayerNorm((192,), eps=1e-05, elementwise_affine=True)\n",
       "      (mlp): MLP(\n",
       "        (fc1): Linear(in_features=192, out_features=384, bias=True)\n",
       "        (fc2): Linear(in_features=384, out_features=192, bias=True)\n",
       "        (dropout): Dropout(p=0.1, inplace=False)\n",
       "      )\n",
       "    )\n",
       "  )\n",
       "  (norm): LayerNorm((192,), eps=1e-05, elementwise_affine=True)\n",
       "  (head): Linear(in_features=192, out_features=10, bias=True)\n",
       ")"
      ]
     },
     "execution_count": 24,
     "metadata": {},
     "output_type": "execute_result"
    }
   ],
   "source": [
    "model"
   ]
  },
  {
   "cell_type": "markdown",
   "metadata": {
    "id": "ikZBWMVdGb9x"
   },
   "source": [
    "##9. Defining a loss function and an optimizer\n"
   ]
  },
  {
   "cell_type": "code",
   "execution_count": null,
   "metadata": {
    "id": "Qnhs9g4PGYiL"
   },
   "outputs": [],
   "source": [
    "criterion = nn.CrossEntropyLoss()\n",
    "optimizer = optim.Adam(model.parameters(), lr=LEARNING_RATE)"
   ]
  },
  {
   "cell_type": "code",
   "execution_count": null,
   "metadata": {
    "colab": {
     "base_uri": "https://localhost:8080/"
    },
    "id": "lCJBkmv7Glmc",
    "outputId": "d366ba6d-a474-49c8-cceb-773b7f3731e7"
   },
   "outputs": [
    {
     "data": {
      "text/plain": [
       "Adam (\n",
       "Parameter Group 0\n",
       "    amsgrad: False\n",
       "    betas: (0.9, 0.999)\n",
       "    capturable: False\n",
       "    differentiable: False\n",
       "    eps: 1e-08\n",
       "    foreach: None\n",
       "    fused: None\n",
       "    lr: 0.0003\n",
       "    maximize: False\n",
       "    weight_decay: 0\n",
       ")"
      ]
     },
     "execution_count": 26,
     "metadata": {},
     "output_type": "execute_result"
    }
   ],
   "source": [
    "criterion\n",
    "optimizer"
   ]
  },
  {
   "cell_type": "markdown",
   "metadata": {
    "id": "JVMBgO73GuIf"
   },
   "source": [
    "## 10. Defining a training loop function"
   ]
  },
  {
   "cell_type": "code",
   "execution_count": null,
   "metadata": {
    "id": "ef7YaF_FGtTz"
   },
   "outputs": [],
   "source": [
    "def train(model, train_loader, criterion):\n",
    "    model.train()\n",
    "    total_loss, correct = 0, 0\n",
    "\n",
    "    for x, y in train_loader:\n",
    "        x, y = x.to(device), y.to(device)\n",
    "        optimizer.zero_grad()\n",
    "        out = model(x)\n",
    "        loss = criterion(out, y)\n",
    "        loss.backward()\n",
    "        optimizer.step()\n",
    "\n",
    "        total_loss += loss.item() * x.size(0)\n",
    "        correct += (out.argmax(1) == y).sum().item()\n",
    "\n",
    "    return total_loss / len(train_loader.dataset), correct / len(train_loader.dataset)"
   ]
  },
  {
   "cell_type": "code",
   "execution_count": null,
   "metadata": {
    "id": "pzaHKUjxI4sw"
   },
   "outputs": [],
   "source": [
    "def evaluate(model, test_loader):\n",
    "  model.eval() #set the mode to evaluation for the model\n",
    "  correct = 0\n",
    "  with torch.inference_mode():\n",
    "    for x,y in test_loader:\n",
    "      x,y = x.to(device), y.to(device)\n",
    "      out = model(x)\n",
    "      correct += (out.argmax(1) == y).sum().item()\n",
    "  return correct / len(test_loader.dataset)"
   ]
  },
  {
   "cell_type": "code",
   "execution_count": null,
   "metadata": {
    "id": "JAQBJ2tKLunq"
   },
   "outputs": [],
   "source": [
    "from tqdm.auto import tqdm"
   ]
  },
  {
   "cell_type": "code",
   "execution_count": null,
   "metadata": {
    "colab": {
     "base_uri": "https://localhost:8080/",
     "height": 223,
     "referenced_widgets": [
      "5ad9ba6711504edf8b448409099d96a4",
      "05595579999343b0af08f7c76f1ae1e7",
      "4f4b144f54a44c1ab767d2006a2215bb",
      "8ae9b6109c0049aabc17cf662b8c8209",
      "6051aa3a7054447b9d0d9b3923cfdd72",
      "c960714de43045438d402e0ba263a167",
      "cf429f2fcaef47f0abd2e45f3ceaffeb",
      "ba21b0666b354084a48c9cecc4c29006",
      "0c811ca811584642a4829628615ef88a",
      "a48316ae5abc463e89e4a077015aa645",
      "83044fe227394e1a9d944c3c0edb81e7"
     ]
    },
    "id": "hngJw3crJWcf",
    "outputId": "8269cecd-fa6e-4f04-f511-faf2fb2c044e"
   },
   "outputs": [
    {
     "data": {
      "application/vnd.jupyter.widget-view+json": {
       "model_id": "5ad9ba6711504edf8b448409099d96a4",
       "version_major": 2,
       "version_minor": 0
      },
      "text/plain": [
       "  0%|          | 0/10 [00:00<?, ?it/s]"
      ]
     },
     "metadata": {},
     "output_type": "display_data"
    },
    {
     "name": "stdout",
     "output_type": "stream",
     "text": [
      "Epoch: 1/10, Train Loss: 1.7421, Train Acc: 0.3705, Test Acc: 0.4705\n",
      "Epoch: 2/10, Train Loss: 1.4196, Train Acc: 0.4905, Test Acc: 0.5296\n",
      "Epoch: 3/10, Train Loss: 1.2770, Train Acc: 0.5429, Test Acc: 0.5726\n",
      "Epoch: 4/10, Train Loss: 1.1782, Train Acc: 0.5783, Test Acc: 0.5686\n",
      "Epoch: 5/10, Train Loss: 1.0993, Train Acc: 0.6051, Test Acc: 0.5952\n",
      "Epoch: 6/10, Train Loss: 1.0292, Train Acc: 0.6331, Test Acc: 0.6051\n",
      "Epoch: 7/10, Train Loss: 0.9612, Train Acc: 0.6572, Test Acc: 0.6101\n",
      "Epoch: 8/10, Train Loss: 0.9010, Train Acc: 0.6787, Test Acc: 0.6272\n",
      "Epoch: 9/10, Train Loss: 0.8367, Train Acc: 0.7013, Test Acc: 0.6252\n",
      "Epoch: 10/10, Train Loss: 0.7741, Train Acc: 0.7246, Test Acc: 0.6274\n"
     ]
    }
   ],
   "source": [
    "### Training\n",
    "\n",
    "train_accuracies = []\n",
    "test_accuracies = []\n",
    "\n",
    "for epoch in tqdm(range(EPOCHS)):\n",
    "  train_loss, train_acc = train(model, train_loader, criterion)\n",
    "  test_acc = evaluate(model, test_loader)\n",
    "  train_accuracies.append(train_acc)\n",
    "  test_accuracies.append(test_acc)\n",
    "  print(f\"Epoch: {epoch+1}/{EPOCHS}, Train Loss: {train_loss:.4f}, Train Acc: {train_acc:.4f}, Test Acc: {test_acc:.4f}\")"
   ]
  },
  {
   "cell_type": "code",
   "execution_count": null,
   "metadata": {
    "colab": {
     "base_uri": "https://localhost:8080/"
    },
    "id": "iKUYzh8GmHLN",
    "outputId": "13ac0897-b6db-4eae-ee3a-f390262f5d43"
   },
   "outputs": [
    {
     "name": "stdout",
     "output_type": "stream",
     "text": [
      "Train Acc: [0.37054, 0.49046, 0.54292, 0.5783, 0.6051, 0.63312, 0.65722, 0.67872, 0.70134, 0.72458]\n",
      "Test Acc: [0.37054, 0.49046, 0.54292, 0.5783, 0.6051, 0.63312, 0.65722, 0.67872, 0.70134, 0.72458]\n"
     ]
    }
   ],
   "source": [
    "print(f\"Train Acc: {train_accuracies}\")\n",
    "print(f\"Test Acc: {train_accuracies}\")"
   ]
  },
  {
   "cell_type": "code",
   "execution_count": null,
   "metadata": {
    "colab": {
     "base_uri": "https://localhost:8080/",
     "height": 449
    },
    "id": "sEoUWe8GmTS2",
    "outputId": "be455347-dbf4-4f0a-986b-b43477b64454"
   },
   "outputs": [
    {
     "data": {
      "image/png": "[encoded data removed]",
      "text/plain": [
       "<Figure size 640x480 with 1 Axes>"
      ]
     },
     "metadata": {},
     "output_type": "display_data"
    }
   ],
   "source": [
    "# Plot the accuracy\n",
    "plt.plot(train_accuracies, label='Train Accuracy')\n",
    "plt.plot(test_accuracies, label='Test Accuracy')\n",
    "plt.xlabel('Epoch')\n",
    "plt.ylabel('Accuracy')\n",
    "plt.legend()\n",
    "plt.show()"
   ]
  },
  {
   "cell_type": "code",
   "execution_count": null,
   "metadata": {
    "id": "RcfbyDLpmcvn"
   },
   "outputs": [],
   "source": [
    "import random"
   ]
  },
  {
   "cell_type": "code",
   "execution_count": null,
   "metadata": {
    "id": "Q9Lbt34Mmmdo"
   },
   "outputs": [],
   "source": [
    "def predict_and_plot_grid(model, dataset, classes, grid_size=3):\n",
    "\n",
    "    model.eval()\n",
    "    device = next(model.parameters()).device\n",
    "\n",
    "    fig, axes = plt.subplots(grid_size, grid_size, figsize=(10, 10))\n",
    "\n",
    "    for i in range(grid_size):\n",
    "        for j in range(grid_size):\n",
    "            idx = random.randint(0, len(dataset) - 1)\n",
    "            img, true_label = dataset[idx]\n",
    "\n",
    "            input_tensor = img.unsqueeze(0).to(device)\n",
    "\n",
    "            with torch.no_grad():\n",
    "                output = model(input_tensor)\n",
    "\n",
    "            pred = output.argmax(1).item()\n",
    "\n",
    "            img_disp = img.cpu() * 0.2470 + 0.4914  # Roughly de-normalize CIFAR-10\n",
    "            npimg = img_disp.numpy()\n",
    "\n",
    "            axes[i, j].imshow(np.transpose(npimg, (1, 2, 0)))\n",
    "            is_correct = (classes[pred] == classes[true_label])\n",
    "            axes[i, j].set_title(f\"True: {classes[true_label]}\\nPred: {classes[pred]}\",\n",
    "                                 color=\"green\" if is_correct else \"red\")\n",
    "            axes[i, j].axis('off')\n",
    "\n",
    "    plt.tight_layout()\n",
    "    plt.show()\n"
   ]
  },
  {
   "cell_type": "code",
   "execution_count": null,
   "metadata": {
    "colab": {
     "base_uri": "https://localhost:8080/",
     "height": 1000
    },
    "id": "ra32RJT3olER",
    "outputId": "1eca4ed6-e9df-44cb-ff8c-9d52cab2994e"
   },
   "outputs": [
    {
     "data": {
      "image/png": "[encoded data removed]",
      "text/plain": [
       "<Figure size 1000x1000 with 9 Axes>"
      ]
     },
     "metadata": {},
     "output_type": "display_data"
    }
   ],
   "source": [
    "predict_and_plot_grid(model, test_dataset, classes=train_dataset.classes, grid_size=3)"
   ]
  }
 ],
 "metadata": {
  "accelerator": "GPU",
  "colab": {
   "gpuType": "T4",
   "provenance": []
  },
  "kernelspec": {
   "display_name": "Python 3",
   "name": "python3"
  },
  "language_info": {
   "name": "python"
  }
 },
 "nbformat": 4,
 "nbformat_minor": 0
}
